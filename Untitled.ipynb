{
 "cells": [
  {
   "cell_type": "code",
   "execution_count": 2,
   "id": "1a76476a-a0a2-4543-8bc8-3b6b15323f74",
   "metadata": {},
   "outputs": [
    {
     "name": "stdout",
     "output_type": "stream",
     "text": [
      "Machine learning is a type of artificial intelligence that enables computers to automatically improve their performance on a task or problem through experience and data, without being explicitly programmed for each specific instance.\n"
     ]
    }
   ],
   "source": [
    "from langchain_community.llms import Ollama\n",
    "\n",
    "# Initialize the Ollama LLM with the correct model name\n",
    "llm = Ollama(model=\"llama3.1:8b\")\n",
    "\n",
    "# Test the model\n",
    "response = llm(\"Explain the concept of machine learning in one sentence.\")\n",
    "print(response)"
   ]
  },
  {
   "cell_type": "code",
   "execution_count": 3,
   "id": "e43bef6e-486a-416a-a8ca-401efd78f9c5",
   "metadata": {
    "jupyter": {
     "source_hidden": true
    }
   },
   "outputs": [
    {
     "name": "stderr",
     "output_type": "stream",
     "text": [
      "/Users/vanditsadaphale/Library/Caches/pypoetry/virtualenvs/llama-fine-tuning-rZexxVwI-py3.9/lib/python3.9/site-packages/langchain_core/_api/deprecation.py:141: LangChainDeprecationWarning: The class `LLMChain` was deprecated in LangChain 0.1.17 and will be removed in 1.0. Use RunnableSequence, e.g., `prompt | llm` instead.\n",
      "  warn_deprecated(\n",
      "/Users/vanditsadaphale/Library/Caches/pypoetry/virtualenvs/llama-fine-tuning-rZexxVwI-py3.9/lib/python3.9/site-packages/langchain_core/_api/deprecation.py:141: LangChainDeprecationWarning: The method `Chain.run` was deprecated in langchain 0.1.0 and will be removed in 0.3.0. Use invoke instead.\n",
      "  warn_deprecated(\n"
     ]
    },
    {
     "name": "stdout",
     "output_type": "stream",
     "text": [
      "Let's break down the key differences between supervised and unsupervised machine learning:\n",
      "\n",
      "**Supervised Learning**\n",
      "\n",
      "1. **Goal**: The goal of supervised learning is to predict a continuous or categorical output variable based on input features.\n",
      "2. **Labelled Data**: You have a dataset with input features (X) and corresponding output labels (y).\n",
      "3. **Training Process**: The model learns from the labelled data by adjusting its parameters to minimize the difference between predicted outputs and actual labels.\n",
      "4. **Example Use Cases**:\n",
      "\t* Image classification: Classifying images into different categories (e.g., dogs, cats, cars).\n",
      "\t* Sentiment analysis: Predicting whether a text is positive or negative.\n",
      "\n",
      "**Unsupervised Learning**\n",
      "\n",
      "1. **Goal**: The goal of unsupervised learning is to discover patterns, relationships, or groupings in the data without a priori knowledge.\n",
      "2. **No Labels**: You have a dataset with only input features (X), but no corresponding output labels (y).\n",
      "3. **Training Process**: The model learns from the data by clustering similar instances together, identifying hidden structure, or reducing dimensionality.\n",
      "4. **Example Use Cases**:\n",
      "\t* Clustering: Grouping customers based on their purchasing behavior without any predefined categories.\n",
      "\t* Dimensionality Reduction: Reducing a high-dimensional dataset to visualize it more easily.\n",
      "\n",
      "The key differences between supervised and unsupervised learning are:\n",
      "\n",
      "1. **Presence of Labels**: Supervised learning relies on labelled data, while unsupervised learning uses only input features.\n",
      "2. **Goal**: Supervised learning aims to predict an output variable, whereas unsupervised learning seeks to discover patterns or relationships in the data.\n",
      "\n",
      "These differences reflect fundamentally distinct approaches to machine learning, and each has its own strengths and applications.\n"
     ]
    }
   ],
   "source": [
    "from langchain.prompts import PromptTemplate\n",
    "from langchain.chains import LLMChain\n",
    "\n",
    "template = \"\"\"Question: {question}\n",
    "\n",
    "Answer: Let's think about this step by step:\"\"\"\n",
    "\n",
    "prompt = PromptTemplate(template=template, input_variables=[\"question\"])\n",
    "\n",
    "chain = LLMChain(llm=llm, prompt=prompt)\n",
    "\n",
    "question = \"What are the main differences between supervised and unsupervised learning?\"\n",
    "response = chain.run(question)\n",
    "print(response)"
   ]
  },
  {
   "cell_type": "code",
   "execution_count": 4,
   "id": "61c5a0c5-69f7-42d8-9f8f-4240daf5a5d4",
   "metadata": {},
   "outputs": [
    {
     "name": "stdout",
     "output_type": "stream",
     "text": [
      "{'(iso)butyryl-f-fentanyl n-benzyl analogue': ['(Iso)butyryl-F-fentanyl N-benzyl analogue', 'NPS'], '25 i nnbombe': ['25I-NBOMe', 'NPS'], '4-fluoro methoxyacetyl fentanyl': ['4-Fluoro-Methoxyacetyl-fentanyl', 'NPS'], '4-methylaminorex p-methyl derivative': ['4-Methylaminorex p-methyl derivative', 'NPS'], '4-methylbuphedrone, n-benzyl derivative': ['4-methylbuphedrone, N-benzyl derivative ', 'NPS'], '5f-pb-22 indazole analogue': ['5F-PB-22 indazole analogue', 'NPS'], 'a+ grade weed': ['Cannabis', 'Cannabis'], 'ab-005 azepane isomer': ['AB-005 azepane isomer', 'NPS'], 'ab-chminaca 2’-indazole isomer': ['AB-CHMINACA 2’-indazole isomer', 'NPS'], 'ab-fubinaca 2-fluorobenzyl isomer': ['AB-FUBINACA 2-fluorobenzyl isomer', 'NPS'], 'ab-pinaca n-(2-fluoropentyl) isomer': ['AB-PINACA N-(2-fluoropentyl) isomer', 'NPS'], 'am-1220 azepane isomer': ['AM-1220 azepane isomer', 'NPS'], 'am-1248 azepane isomer': ['AM-1248 azepane isomer', 'NPS'], 'am-2201 indazole analogue': ['AM-2201 indazole analogue', 'NPS'], 'am-2201 indazolecarboxamide analogue': ['AM-2201 indazolecarboxamide analogue', 'NPS'], 'am-694 chloro derivative': ['AM-694 chloro derivative', 'NPS'], 'best quality ice': ['Illicit Amphetamine/Methamphetamine', 'Amphetamine/methamphetamine (illicit)'], 'black diamond kush': ['Cannabis', 'Cannabis'], 'blue louis vitton': ['MDMA', 'MDMA'], 'blueberry yum yum': ['Cannabis', 'Cannabis'], 'd - bol': ['ANABOLIC STEROIDS', 'PiEDS/weight loss'], 'desert dream sand': ['DMT', 'DMT'], 'ez test opiates': ['Drug checking equipment', 'Paraphernalia'], 'fentanyl butanamide analogue': ['Fentanyl butanamide analogue', 'NPS'], 'grand daddy purp': ['Cannabis', 'Cannabis'], 'girl scout cookies': ['Cannabis', 'Cannabis'], 'gold coast kush': ['Cannabis', 'Cannabis'], 'hawaiian baby woodrose': ['Hawaiian Baby Woodrose', 'NPS'], 'ice - uncut': ['Illicit Amphetamine/Methamphetamine', 'Amphetamine/methamphetamine (illicit)'], 'ice o lator': ['Cannabis', 'Cannabis'], \"jwh-018 2'-naphthyl isomer\": [\"JWH-018 2'-naphthyl isomer\", 'NPS'], 'jwh-018 n-(5-bromopentyl) derivative': ['JWH-018 N-(5-bromopentyl) derivative', 'NPS'], 'jwh-018 n-(5-chloropentyl) derivative': ['JWH-018 N-(5-chloropentyl) derivative', 'NPS'], 'jwh-018 adamantoyl derivative': ['JWH-018 adamantoyl derivative', 'NPS'], 'jwh-018 carboxamide derivative': ['JWH-018 carboxamide derivative', 'NPS'], 'jwh-018 cyclohexymethyl derivative': ['JWH-018 cyclohexymethyl derivative', 'NPS'], 'jwh-018 indazole analogue': ['JWH-018 indazole analogue', 'NPS'], 'jwh-018 methylderivate (2-methylnaphthalene': ['JWH-018 methylderivate (2-methylnaphthalene', 'NPS'], 'jwh-073 methyl derivative': ['JWH-073 methyl derivative', 'NPS'], 'jwh-122 (5-methyl-naphtyl isomer)': ['JWH-122 (5-Methyl-naphtyl isomer)', 'NPS'], 'jwh-122 n-(4-pentenyl) -2-methylindole': ['JWH-122 N-(4-pentenyl) -2-methylindole', 'NPS'], 'jwh-122 fluoropentyl derivative': ['JWH-122 fluoropentyl derivative', 'NPS'], 'jwh-122 pentenyl derivative': ['JWH-122 pentenyl derivative', 'NPS'], 'jwh-307 brominated derivative': ['JWH-307 brominated derivative', 'NPS'], 'king louis xiii': ['Cannabis', 'Cannabis'], 'lysergic acid 2,4-dimethylazetidide': ['Lysergic acid 2,4-dimethylazetidide', 'NPS'], 'mda 2-aldoxime analog': ['MDA 2-aldoxime analog', 'NPS'], 'medical grade chemdawg': ['Cannabis', 'Cannabis'], 'medical grade khemdawg': ['Cannabis', 'Cannabis'], 'medical grade purple': ['Cannabis', 'Cannabis'], 'methoxetamine brominated derivative': ['Methoxetamine brominated derivative', 'NPS'], 'n-benzyl phenyl norfentanyl': ['N-benzyl phenyl norfentanyl', 'NPS'], 'n-methyl aminorex derivative': ['N-methyl aminorex derivative', 'NPS'], 'nugg run wax': ['Cannabis', 'Cannabis'], 'outdoor grown weed': ['Cannabis', 'Cannabis'], 'outdoor money maker': ['Cannabis', 'Cannabis'], 'pb-22 indazole analogue': ['PB-22 indazole analogue', 'NPS'], 'peruvian torch cactus': ['Echinopsis peruviana', 'NPS'], 'rcs-4 butyl homologue': ['RCS-4 butyl homologue', 'NPS'], 'rcs-4 ortho isomer': ['RCS-4 ortho isomer', 'NPS'], 'sdb-006 n-phenyl analogue': ['SDB-006 N-phenyl analogue', 'NPS'], 'sudden impact hash': ['Cannabis', 'Cannabis'], 'top shelf mmj': ['Cannabis', 'Cannabis'], 'ur-144  (n-heptyl analogue)': ['UR-144  (N-heptyl analogue)', 'NPS'], 'ur-144 n-(5-chloropentyl) analogue': ['UR-144 N-(5-chloropentyl) analogue', 'NPS'], 'ur-144 degradation product': ['UR-144 degradation product', 'NPS'], 'ur-144 heptyl derivative': ['UR-144 heptyl derivative', 'NPS'], 'weed bio cheese': ['Cannabis', 'Cannabis'], 'benzyl methyl ketone': ['BMK', 'Precursors'], 'big bud indica': ['Cannabis', 'Cannabis'], 'bio diesel mass': ['Cannabis', 'Cannabis'], 'black jack weed': ['Cannabis', 'Cannabis'], 'blue city diesel': ['Cannabis', 'Cannabis'], 'chocolate chip cookies': ['Cannabis', 'Cannabis'], 'critical mass outdoor': ['Cannabis', 'Cannabis'], 'food grade bho': ['Cannabis', 'Cannabis'], 'grade a indoor': ['Cannabis', 'Cannabis'], 'grams of g-13': ['Cannabis', 'Cannabis'], 'high grade hash': ['Cannabis', 'Cannabis'], 'high grade meth': ['Illicit Amphetamine/Methamphetamine', 'Amphetamine/methamphetamine (illicit)'], 'low budget weed': ['Cannabis', 'Cannabis'], 'meth 3.5 grams': ['Illicit Amphetamine/Methamphetamine', 'Amphetamine/methamphetamine (illicit)'], 'meth 7 grams': ['Illicit Amphetamine/Methamphetamine', 'Amphetamine/methamphetamine (illicit)'], 'meth top quality': ['Illicit Amphetamine/Methamphetamine', 'Amphetamine/methamphetamine (illicit)'], 'ounce of meth': ['Illicit Amphetamine/Methamphetamine', 'Amphetamine/methamphetamine (illicit)'], 'ounces of meth': ['Illicit Amphetamine/Methamphetamine', 'Amphetamine/methamphetamine (illicit)'], 'purple candy kush': ['Cannabis', 'Cannabis'], 'rick simpson oil': ['Cannabis', 'Cannabis'], 'top shelf bud': ['Cannabis', 'Cannabis'], 'top shelf indoor': ['Cannabis', 'Cannabis'], 'top shelf shatter': ['Cannabis', 'Cannabis'], 'top shelf weed': ['Cannabis', 'Cannabis'], 'white russian trim': ['Cannabis', 'Cannabis']}\n"
     ]
    }
   ],
   "source": [
    "import pickle\n",
    "\n",
    "with open('/Users/vanditsadaphale/Desktop/untitled folder/new_dict_NM_3.pickle', 'rb') as f:\n",
    "    data = pickle.load(f)\n",
    "\n",
    "print(data)"
   ]
  },
  {
   "cell_type": "code",
   "execution_count": 4,
   "id": "52e97fec-8bdf-4c3d-82f1-2dce8d62aa75",
   "metadata": {},
   "outputs": [
    {
     "name": "stdout",
     "output_type": "stream",
     "text": [
      "                                                    key  \\\n",
      "0                       1 Blister Codein 50mg Codeinium   \n",
      "1         65 sample - choose what u want, mix and match   \n",
      "2                SPECIAL PROMO: 500x S903-4mg Hulk Bars   \n",
      "3                                     50 B707 BLUE BARS   \n",
      "4                                       TERCIAN 30x25mg   \n",
      "...                                                 ...   \n",
      "4420                                tip jar! thank you!   \n",
      "4421  30x galaxy premium budder 1 gram jar ($5 off e...   \n",
      "4422                   galaxy premium budder 1 gram jar   \n",
      "4423        16x the orginal moonrock prerolls 1.5 grams   \n",
      "4424                           stndrd 400mg thc gummies   \n",
      "\n",
      "                     value_10                         value_25  \\\n",
      "0     ['Codein', 'Codeinium']          ['Codein', 'Codeinium']   \n",
      "1                      ['NA']                           ['NA']   \n",
      "2       ['S903', 'Hulk Bars']            ['S903', 'Hulk Bars']   \n",
      "3                    ['B707']                         ['B707']   \n",
      "4                 ['Tercián']                     ['Terician']   \n",
      "...                       ...                              ...   \n",
      "4420                       []                           ['NA']   \n",
      "4421               ['budder']  ['Galaxy', 'budder', 'premium']   \n",
      "4422               ['budder']  ['Galaxy', 'budder', 'premium']   \n",
      "4423  ['moonrock', 'preroll']         ['Moonrocks', 'preroll']   \n",
      "4424         ['THC', 'gummy']     ['Stndrd', 'THC', 'gummies']   \n",
      "\n",
      "                         value_gemma2  \n",
      "0             ['Codein', 'Codeinium']  \n",
      "1                              ['NA']  \n",
      "2               ['S903', 'Hulk Bars']  \n",
      "3                            ['B707']  \n",
      "4                         ['TERCIAN']  \n",
      "...                               ...  \n",
      "4420                               []  \n",
      "4421                ['budder', 'THC']  \n",
      "4422                ['budder', 'THC']  \n",
      "4423  ['prerolls', 'moonrock', 'THC']  \n",
      "4424           ['thc gummies', 'THC']  \n",
      "\n",
      "[4425 rows x 4 columns]\n"
     ]
    }
   ],
   "source": [
    "import pandas as pd\n",
    "\n",
    "# Load the CSV files into DataFrames\n",
    "df1 = pd.read_csv('output/mistral-nemo_10.csv')\n",
    "df2 = pd.read_csv('output/mistral-nemo_25.csv')\n",
    "df3 = pd.read_csv('output/gemma2_10.csv')\n",
    "\n",
    "# Merge the DataFrames on 'key', using inner join to keep only the rows where the 'key' is present in all DataFrames\n",
    "merged_df = df1.merge(df2, on='key', suffixes=('_10', '_25')).merge(df3, on='key', suffixes=('', '_gemma2'))\n",
    "\n",
    "# Rename the columns for clarity\n",
    "merged_df.rename(columns={'value': 'value_gemma2'}, inplace=True)\n",
    "\n",
    "# Display the final merged DataFrame\n",
    "print(merged_df)\n",
    "\n",
    "# If you want to save the final merged DataFrame to a CSV file, you can uncomment the line below\n",
    "# merged_df.to_csv('merged_dataframe.csv', index=False)\n"
   ]
  },
  {
   "cell_type": "code",
   "execution_count": 5,
   "id": "1413a4e8-824a-4996-8588-e8fd1b3d0f75",
   "metadata": {},
   "outputs": [],
   "source": [
    "merged_df.to_csv('output/all_keywords.csv', index=False)"
   ]
  },
  {
   "cell_type": "code",
   "execution_count": null,
   "id": "c8c2e9b7-8eb2-4f0e-b00a-ed12b1f80130",
   "metadata": {},
   "outputs": [],
   "source": []
  }
 ],
 "metadata": {
  "kernelspec": {
   "display_name": "Python 3 (ipykernel)",
   "language": "python",
   "name": "python3"
  },
  "language_info": {
   "codemirror_mode": {
    "name": "ipython",
    "version": 3
   },
   "file_extension": ".py",
   "mimetype": "text/x-python",
   "name": "python",
   "nbconvert_exporter": "python",
   "pygments_lexer": "ipython3",
   "version": "3.9.6"
  }
 },
 "nbformat": 4,
 "nbformat_minor": 5
}
